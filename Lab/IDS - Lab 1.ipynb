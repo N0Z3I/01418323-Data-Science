{
 "cells": [
  {
   "cell_type": "markdown",
   "metadata": {},
   "source": [
    "# Exercises: Basic Python (Questions)\n",
    "\n",
    "จงตอบคำถามดังต่อไปนี้  (ให้ใช้ method ตามที่กำหนดให้)"
   ]
  },
  {
   "cell_type": "markdown",
   "metadata": {},
   "source": [
    "**หาค่า 7 ยกกำลัง 4 ?**"
   ]
  },
  {
   "cell_type": "code",
   "execution_count": 16,
   "metadata": {},
   "outputs": [
    {
     "data": {
      "text/plain": [
       "2401"
      ]
     },
     "execution_count": 16,
     "metadata": {},
     "output_type": "execute_result"
    }
   ],
   "source": [
    "7**4"
   ]
  },
  {
   "cell_type": "markdown",
   "metadata": {},
   "source": [
    "**Split this string:**\n",
    "\n",
    "    s = \"Hi there Sam!\"\n",
    "    \n",
    "**into a list. **"
   ]
  },
  {
   "cell_type": "code",
   "execution_count": 17,
   "metadata": {},
   "outputs": [],
   "source": [
    "s = 'Hi there Sam!'"
   ]
  },
  {
   "cell_type": "code",
   "execution_count": 18,
   "metadata": {},
   "outputs": [
    {
     "data": {
      "text/plain": [
       "['Hi', 'there', 'Sam!']"
      ]
     },
     "execution_count": 18,
     "metadata": {},
     "output_type": "execute_result"
    }
   ],
   "source": [
    "s.split()"
   ]
  },
  {
   "cell_type": "markdown",
   "metadata": {},
   "source": [
    "** กำหนดให้ variables:**\n",
    "\n",
    "    planet = \"Earth\"\n",
    "    diameter = 12742\n",
    "\n",
    "**  จง print ข้อความ string ดังต่อไปนี้ ด้วยคำสั่ง .format(): **\n",
    "\n",
    "    The diameter of Earth is 12742 kilometers."
   ]
  },
  {
   "cell_type": "code",
   "execution_count": 19,
   "metadata": {},
   "outputs": [],
   "source": [
    "planet = \"Earth\"\n",
    "diameter = 12742"
   ]
  },
  {
   "cell_type": "code",
   "execution_count": 21,
   "metadata": {},
   "outputs": [
    {
     "name": "stdout",
     "output_type": "stream",
     "text": [
      "The diameter of Earth is 12742 kilometers.\n"
     ]
    }
   ],
   "source": [
    "print(f\"The diameter of {planet} is {diameter} kilometers.\")"
   ]
  },
  {
   "cell_type": "markdown",
   "metadata": {},
   "source": [
    "** จงใช้ความรู้เรื่อง indexing แล้ว print คำว่า \"hello\" จาก list ที่กำหนดให้ **"
   ]
  },
  {
   "cell_type": "code",
   "execution_count": 22,
   "metadata": {},
   "outputs": [],
   "source": [
    "lst = [1,2,[3,4],[5,[100,200,['hello']],23,11],1,7]"
   ]
  },
  {
   "cell_type": "code",
   "execution_count": 23,
   "metadata": {},
   "outputs": [
    {
     "data": {
      "text/plain": [
       "'hello'"
      ]
     },
     "execution_count": 23,
     "metadata": {},
     "output_type": "execute_result"
    }
   ],
   "source": [
    "lst[3][1][2][0]"
   ]
  },
  {
   "cell_type": "markdown",
   "metadata": {},
   "source": [
    "** จง print คำว่า hello\" จาก dictionary ที่กำหนดให้ **"
   ]
  },
  {
   "cell_type": "code",
   "execution_count": 31,
   "metadata": {},
   "outputs": [],
   "source": [
    "d = {'k1':[1,2,3,{'tricky':['oh','man','inception',{'target':[1,2,3,'hello']}]}] , 'k2': 45}"
   ]
  },
  {
   "cell_type": "code",
   "execution_count": 37,
   "metadata": {},
   "outputs": [
    {
     "data": {
      "text/plain": [
       "'hello'"
      ]
     },
     "execution_count": 37,
     "metadata": {},
     "output_type": "execute_result"
    }
   ],
   "source": [
    "d.get('k1')[3].get('tricky')[3].get('target')[3]"
   ]
  },
  {
   "cell_type": "markdown",
   "metadata": {},
   "source": [
    "** จง Comment บอกข้อแตกต่างหลักๆระหว่าง tuple และ list **"
   ]
  },
  {
   "cell_type": "code",
   "execution_count": 37,
   "metadata": {},
   "outputs": [],
   "source": [
    "#List นั้นเป็นข้อมูลแบบ Mutable เราจึงสามารถแก้ไขเพิ่มหรือลบข้อมูลออกจากลิสต์ได้ \n",
    "#Tuple เป็นคอลเลคชันที่เรียงลำดับและไม่สามารถเปลี่ยนแปลงได้ อนุญาตสมาชิกที่ซ้ำกัน"
   ]
  },
  {
   "cell_type": "markdown",
   "metadata": {},
   "source": [
    "** จงสร้าง function ที่ทำหน้าที่กำหนด website domain ด้วนการ input email ที่เป็นตัวแปรประเภท string หรือข้อความในรูปแบบดังต้อไปนี้: **\n",
    "\n",
    "    user@domain.com\n",
    "    \n",
    "**Example, ให้ค่า input คือ \"user@domain.com\" จากนั้นให้ return \"domain.com\" ออกมา**"
   ]
  },
  {
   "cell_type": "code",
   "execution_count": 45,
   "metadata": {},
   "outputs": [],
   "source": [
    "def domainGet(input):\n",
    "    return input.split('@',1)[1]"
   ]
  },
  {
   "cell_type": "code",
   "execution_count": 46,
   "metadata": {},
   "outputs": [
    {
     "data": {
      "text/plain": [
       "'domain.com'"
      ]
     },
     "execution_count": 46,
     "metadata": {},
     "output_type": "execute_result"
    }
   ],
   "source": [
    "domainGet('user@domain.com')"
   ]
  },
  {
   "cell_type": "markdown",
   "metadata": {},
   "source": [
    "** จงสร้าง function ที่ทำหน้านี้ returns ค่า Boolean ถ้าเจอคำว่า 'dog' ใน input string ให้ return True นอกนั้น False โดยจะต้องไม่มี punctuation ติดอยู่กับคำว่า dog ได้ แต่ว่าเป็นอักษร พิมพ์ใหญ่ หรือ พิมพ์เล็กก็ได้ **"
   ]
  },
  {
   "cell_type": "code",
   "execution_count": 49,
   "metadata": {},
   "outputs": [],
   "source": [
    "def findDog(input):\n",
    "    input = str.lower(input)\n",
    "    if ('dog' in input):\n",
    "        return True\n",
    "    else:\n",
    "        return False"
   ]
  },
  {
   "cell_type": "code",
   "execution_count": 50,
   "metadata": {},
   "outputs": [
    {
     "data": {
      "text/plain": [
       "True"
      ]
     },
     "execution_count": 50,
     "metadata": {},
     "output_type": "execute_result"
    }
   ],
   "source": [
    "findDog('Is there a dog here?')"
   ]
  },
  {
   "cell_type": "markdown",
   "metadata": {},
   "source": [
    "** จงสร้าง function ที่ return จำนวนของคำว่า \"dog\" ที่ปรากฏใน input ที่เป็น string ที่อักษร พิมพ์ใหญ่ หรือ พิมพ์เล็กก็ได้. **"
   ]
  },
  {
   "cell_type": "code",
   "execution_count": 61,
   "metadata": {},
   "outputs": [],
   "source": [
    "def countDog(input):\n",
    "    input = str.lower(input)\n",
    "    return input.count('dog')"
   ]
  },
  {
   "cell_type": "code",
   "execution_count": 62,
   "metadata": {},
   "outputs": [
    {
     "data": {
      "text/plain": [
       "2"
      ]
     },
     "execution_count": 62,
     "metadata": {},
     "output_type": "execute_result"
    }
   ],
   "source": [
    "countDog('This dog runs faster than the other Dog dude!')"
   ]
  },
  {
   "cell_type": "markdown",
   "metadata": {},
   "source": [
    "** ให้ใช้ lambda expressions และ ฟังก์ชั้น filter() เพื่อทำการ filter หรือตัดคำที่อยู่ใน list ที่ไม่ขึ้นต้นด้วยอักษร 's' ออก เช่น**\n",
    "\n",
    "    seq = ['soup','dog','salad','cat','great']\n",
    "\n",
    "**หลังจาก filter และจะต้องเป็นดังนี้**\n",
    "\n",
    "    ['soup','salad']"
   ]
  },
  {
   "cell_type": "code",
   "execution_count": 69,
   "metadata": {},
   "outputs": [],
   "source": [
    "seq = ['soup','dog','salad','cats','great']"
   ]
  },
  {
   "cell_type": "code",
   "execution_count": 70,
   "metadata": {},
   "outputs": [
    {
     "data": {
      "text/plain": [
       "['soup', 'salad']"
      ]
     },
     "execution_count": 70,
     "metadata": {},
     "output_type": "execute_result"
    }
   ],
   "source": [
    "list(filter(lambda input: input[0]=='s',seq))"
   ]
  },
  {
   "cell_type": "markdown",
   "metadata": {},
   "source": [
    "** ให้สร้างฟังก์ชั่นตัดคำที่ไม่มีตัวอักษร 's' ออก  โดยใช้งานคู่กับฟังก์ชั่น filter() เพื่อทำการตัดคำใน list เช่น**\n",
    "\n",
    "seq = ['soup','dog','salad','cats','great']\n",
    "หลังจาก filter และจะต้องเป็นดังนี้\n",
    "\n",
    "['soup','salad','cats']"
   ]
  },
  {
   "cell_type": "code",
   "execution_count": 75,
   "metadata": {},
   "outputs": [],
   "source": [
    "seq = ['soup','dog','salad','cats','great']"
   ]
  },
  {
   "cell_type": "code",
   "execution_count": 76,
   "metadata": {},
   "outputs": [
    {
     "name": "stdout",
     "output_type": "stream",
     "text": [
      "['soup', 'salad', 'cats']\n"
     ]
    }
   ],
   "source": [
    "def filter_s(input):\n",
    "    return list(filter(lambda x:'s' in x,input))\n",
    "print(filter_s(seq))"
   ]
  },
  {
   "cell_type": "markdown",
   "metadata": {},
   "source": [
    "### Final Problem\n",
    "**จงเขียนโปรแกรมช่วยเจ้าหน้าที่ตำรวจคำนวณค่าปรับการในการตรวจจับผู้ที่ขับเร็วเกินกำหนด โดยให้ return ดังนี้**\n",
    "- return :  \"No ticket\" หากขับรถที่ความไม่เกิน 60 km/hr\n",
    "- return :  \"Small ticket\" หากขับรถที่ความเร็วเกินกว่า 60 km/hr แต่ไม่เกิน 80 km/hr\n",
    "- return :  \"Big ticket\"หากขับรถที่ความเร็วเกินกว่า 80 km/hr ขึ้นไป\n",
    "ในการตรวจจับความเร็วนี้ มีกฏอยู่ว่า ถ้าเป็นวันเกิดของผู้ขับ ความเร็วที่ตรวจจะต่ำกว่าความเป็นจริง 5 km/hr (parameter ในการระบุวันเกิด ให้ใช้ตัวแปรประเภท boolean)\n"
   ]
  },
  {
   "cell_type": "code",
   "execution_count": 87,
   "metadata": {},
   "outputs": [],
   "source": [
    "def caught_speeding(speed,birthday):\n",
    "    if(birthday ==True):\n",
    "        speed=speed-5\n",
    "    if(speed<=60):\n",
    "        return 'No Ticket'\n",
    "    elif(speed<=80):\n",
    "        return 'Small Ticket'\n",
    "    else:\n",
    "        return 'Big Ticket'"
   ]
  },
  {
   "cell_type": "code",
   "execution_count": 88,
   "metadata": {},
   "outputs": [
    {
     "data": {
      "text/plain": [
       "'Small Ticket'"
      ]
     },
     "execution_count": 88,
     "metadata": {},
     "output_type": "execute_result"
    }
   ],
   "source": [
    "caught_speeding(81,True)"
   ]
  },
  {
   "cell_type": "code",
   "execution_count": 89,
   "metadata": {},
   "outputs": [
    {
     "data": {
      "text/plain": [
       "'Big Ticket'"
      ]
     },
     "execution_count": 89,
     "metadata": {},
     "output_type": "execute_result"
    }
   ],
   "source": [
    "caught_speeding(81,False)"
   ]
  },
  {
   "cell_type": "markdown",
   "metadata": {},
   "source": [
    "### ----- ภาวนามยปัญญา ปัญญาที่เกิดจากการลงมือทำ! -----"
   ]
  }
 ],
 "metadata": {
  "kernelspec": {
   "display_name": "Python 3",
   "language": "python",
   "name": "python3"
  },
  "language_info": {
   "codemirror_mode": {
    "name": "ipython",
    "version": 3
   },
   "file_extension": ".py",
   "mimetype": "text/x-python",
   "name": "python",
   "nbconvert_exporter": "python",
   "pygments_lexer": "ipython3",
   "version": "3.11.5"
  }
 },
 "nbformat": 4,
 "nbformat_minor": 1
}
